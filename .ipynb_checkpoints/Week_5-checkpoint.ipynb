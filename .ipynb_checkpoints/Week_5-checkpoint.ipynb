{
 "cells": [
  {
   "cell_type": "markdown",
   "metadata": {},
   "source": [
    "## Ex1 Use data from Danmarks Statistik - Databanken\n",
    "1. Go to https://www.dst.dk/da/Statistik/brug-statistikken/muligheder-i-statistikbanken/api#testkonsol\n",
    "2. Open 'Konsol' and click 'Start Konsol'\n",
    "3. In the console at pt 1: choose 'Retrieve tables', pt 2: choose get request and json format and pt 3: execute:\n",
    "  1. check the result\n",
    "  2. in the code below this same get request is used to get information about all available data tables in 'databanken'. \n",
    "4. Change pt. 1 in the console to 'Retrieve data', pt 2: 'get request' and Table id: 'FOLK1A', format: csv, delimiter: semicolon and click: 'Variable and value codes' and choose some sub categories (Hint: hover over the codes to see their meaning). Finally execute and see what data you get.\n",
    "5. With data aggregation and data visualization answer the following questions:\n",
    "  1. What is the change in pct of divorced danes from 2008 to 2020?\n",
    "  2. Which of the 5 biggest cities has the highest percentage of 'Never Married' in 2020?\n",
    "  3. Show a bar chart of changes in marrital status in Copenhagen from 2008 till now\n",
    "  4. Show 2 plots in same figure: 'Married' and 'Never Married' for all ages in DK in 2020 (Hint: x axis is age from 0-125, y axis is how many people in the 2 categories). Add lengend to show names on graphs"
   ]
  },
  {
   "cell_type": "code",
   "execution_count": 1,
   "metadata": {},
   "outputs": [
    {
     "name": "stdout",
     "output_type": "stream",
     "text": [
      "Populating the interactive namespace from numpy and matplotlib\n",
      "--------------------------\n",
      "Downloaded ../data/FOLK1A.csv\n"
     ]
    }
   ],
   "source": [
    "%pylab inline\n",
    "%matplotlib inline\n",
    "import requests\n",
    "\n",
    "#Get response from API\n",
    "url = \"https://api.statbank.dk/v1/data/FOLK1A/CSV?lang=en&delimiter=Semicolon&OMR%C3%85DE=*&CIVILSTAND=U&Tid=2020K4\"\n",
    "response = requests.get(url)\n",
    "\n",
    "#Get file name\n",
    "fname = response.headers[\"Content-Disposition\"].split(\"=\")[1]\n",
    "fname = \"../data/\"+fname\n",
    "\n",
    "#Write the contents to file\n",
    "if response.ok:\n",
    "    with open(fname, \"wb\") as f:\n",
    "        f.write(response.content)\n",
    "\n",
    "print(\"--------------------------\")\n",
    "print(\"Downloaded {}\".format(fname))"
   ]
  },
  {
   "cell_type": "code",
   "execution_count": 2,
   "metadata": {},
   "outputs": [
    {
     "name": "stdout",
     "output_type": "stream",
     "text": [
      "column names:\n",
      " ['OMRÅDE;KØN;ALDER;TID;CIVILSTAND;INDHOLD'] \n",
      "\n",
      "\n",
      "divorced_data are of data type:  <class 'pandas.core.frame.DataFrame'>\n"
     ]
    },
    {
     "data": {
      "text/html": [
       "<div>\n",
       "<style scoped>\n",
       "    .dataframe tbody tr th:only-of-type {\n",
       "        vertical-align: middle;\n",
       "    }\n",
       "\n",
       "    .dataframe tbody tr th {\n",
       "        vertical-align: top;\n",
       "    }\n",
       "\n",
       "    .dataframe thead th {\n",
       "        text-align: right;\n",
       "    }\n",
       "</style>\n",
       "<table border=\"1\" class=\"dataframe\">\n",
       "  <thead>\n",
       "    <tr style=\"text-align: right;\">\n",
       "      <th></th>\n",
       "      <th>OMRÅDE;KØN;ALDER;TID;CIVILSTAND;INDHOLD</th>\n",
       "    </tr>\n",
       "  </thead>\n",
       "  <tbody>\n",
       "    <tr>\n",
       "      <th>0</th>\n",
       "      <td>All Denmark;Total;Total;2008Q1;Divorced;428864</td>\n",
       "    </tr>\n",
       "    <tr>\n",
       "      <th>1</th>\n",
       "      <td>All Denmark;Total;Total;2008Q2;Divorced;431550</td>\n",
       "    </tr>\n",
       "    <tr>\n",
       "      <th>2</th>\n",
       "      <td>All Denmark;Total;Total;2008Q3;Divorced;432713</td>\n",
       "    </tr>\n",
       "    <tr>\n",
       "      <th>3</th>\n",
       "      <td>All Denmark;Total;Total;2008Q4;Divorced;432156</td>\n",
       "    </tr>\n",
       "    <tr>\n",
       "      <th>4</th>\n",
       "      <td>All Denmark;Total;Total;2009Q1;Divorced;434233</td>\n",
       "    </tr>\n",
       "  </tbody>\n",
       "</table>\n",
       "</div>"
      ],
      "text/plain": [
       "          OMRÅDE;KØN;ALDER;TID;CIVILSTAND;INDHOLD\n",
       "0  All Denmark;Total;Total;2008Q1;Divorced;428864\n",
       "1  All Denmark;Total;Total;2008Q2;Divorced;431550\n",
       "2  All Denmark;Total;Total;2008Q3;Divorced;432713\n",
       "3  All Denmark;Total;Total;2008Q4;Divorced;432156\n",
       "4  All Denmark;Total;Total;2009Q1;Divorced;434233"
      ]
     },
     "execution_count": 2,
     "metadata": {},
     "output_type": "execute_result"
    }
   ],
   "source": [
    "import pandas as pd\n",
    "\n",
    "divorced_data = pd.read_csv(\"../data/divorced.csv\")\n",
    "columns_names = divorced_data.columns\n",
    "print('column names:\\n',list(columns_names),'\\n\\n')\n",
    "print(\"divorced_data are of data type: \", type(divorced_data))\n",
    "divorced_data.head()"
   ]
  },
  {
   "cell_type": "code",
   "execution_count": 3,
   "metadata": {},
   "outputs": [
    {
     "data": {
      "text/plain": [
       "129.4354387404865"
      ]
     },
     "execution_count": 3,
     "metadata": {},
     "output_type": "execute_result"
    },
    {
     "data": {
      "image/png": "[encoded data removed]",
      "text/plain": [
       "<Figure size 432x288 with 1 Axes>"
      ]
     },
     "metadata": {
      "needs_background": "light"
     },
     "output_type": "display_data"
    }
   ],
   "source": [
    "import matplotlib.pyplot as plt\n",
    "\n",
    "year_data = divorced_data['OMRÅDE;KØN;ALDER;TID;CIVILSTAND;INDHOLD']\n",
    "\n",
    "amount_divorced = []\n",
    "years = []\n",
    "\n",
    "for x in range(len(year_data)):\n",
    "    first_year = int(year_data[x].split(\";\")[5])\n",
    "    #next_year = int(year_data[(x+1)].split(\";\")[5])\n",
    "    #result = (((next_year/first_year) * 100) - 100)\n",
    "    amount_divorced.append(first_year)\n",
    "\n",
    "for x in range(len(year_data)):\n",
    "    result = year_data[x].split(\";\")[3]\n",
    "    years.append(result)\n",
    "\n",
    "procentage = (int(year_data[52].split(\";\")[5])/int(year_data[0].split(\";\")[5])*100)\n",
    "\n",
    "plt.bar(years, amount_divorced,width=0.5, align='center')\n",
    "procentage"
   ]
  },
  {
   "cell_type": "code",
   "execution_count": 4,
   "metadata": {},
   "outputs": [
    {
     "name": "stdout",
     "output_type": "stream",
     "text": [
      "Copehangen, Odense, Aarhus, Aalborg\n"
     ]
    },
    {
     "data": {
      "text/plain": [
       "<BarContainer object of 99 artists>"
      ]
     },
     "execution_count": 4,
     "metadata": {},
     "output_type": "execute_result"
    },
    {
     "data": {
      "image/png": "[encoded data removed]",
      "text/plain": [
       "<Figure size 432x288 with 1 Axes>"
      ]
     },
     "metadata": {
      "needs_background": "light"
     },
     "output_type": "display_data"
    }
   ],
   "source": [
    "data = pd.read_csv(\"../data/never_married\")\n",
    "\n",
    "never_married = data['OMRÅDE;CIVILSTAND;TID;INDHOLD']\n",
    "\n",
    "amount_never_married = []\n",
    "cities = []\n",
    "\n",
    "for x in range(len(never_married)):\n",
    "    result = int(never_married[x].split(\";\")[3])\n",
    "    amount_never_married.append(result)\n",
    "    \n",
    "for x in range(len(never_married)):\n",
    "    result = never_married[x].split(\";\")[0]\n",
    "    cities.append(result)\n",
    "    \n",
    "    \n",
    "cities.remove(\"All Denmark\")\n",
    "cities.remove(\"Region Hovedstaden\")\n",
    "cities.remove(\"Region Sjælland\")\n",
    "cities.remove(\"Region Syddanmark\")\n",
    "cities.remove(\"Region Midtjylland\")\n",
    "cities.remove(\"Region Nordjylland\")\n",
    "amount_never_married.remove(2859116)\n",
    "amount_never_married.remove(981652)\n",
    "amount_never_married.remove(369548)\n",
    "amount_never_married.remove(568943)\n",
    "amount_never_married.remove(657563)\n",
    "amount_never_married.remove(281410)\n",
    "\n",
    "print(\"Copehangen, Odense, Aarhus, Aalborg\")\n",
    "plt.bar(cities, amount_never_married,width=0.5, align='center')"
   ]
  },
  {
   "cell_type": "code",
   "execution_count": 5,
   "metadata": {},
   "outputs": [
    {
     "data": {
      "text/plain": [
       "<BarContainer object of 53 artists>"
      ]
     },
     "execution_count": 5,
     "metadata": {},
     "output_type": "execute_result"
    },
    {
     "data": {
      "image/png": "[encoded data removed]",
      "text/plain": [
       "<Figure size 432x288 with 1 Axes>"
      ]
     },
     "metadata": {
      "needs_background": "light"
     },
     "output_type": "display_data"
    }
   ],
   "source": [
    "url1 = \"https://api.statbank.dk/v1/data/FOLK1A/CSV?lang=en&OMR%C3%85DE=101&CIVILSTAND=TOT&Tid=*\"\n",
    "dst1 = pd.read_csv(url1, sep=\";\")\n",
    "\n",
    "marrital_status = []\n",
    "year = []\n",
    "\n",
    "for x in range(len(dst1)):\n",
    "    if x == 0:\n",
    "        marrital_status.append(0)\n",
    "    \n",
    "    if x > 0:\n",
    "        result1 = ((dst1.iloc[x]['INDHOLD']) - (dst1.iloc[x-1]['INDHOLD']))\n",
    "        marrital_status.append(result1)\n",
    "\n",
    "    \n",
    "for x in range(len(dst1)):\n",
    "    result = dst1.iloc[x]['TID']\n",
    "    year.append(result)\n",
    "    \n",
    "plt.bar(year, marrital_status,width=0.5, align='center')"
   ]
  },
  {
   "cell_type": "code",
   "execution_count": 26,
   "metadata": {},
   "outputs": [
    {
     "data": {
      "text/plain": [
       "<matplotlib.legend.Legend at 0x7fb172198710>"
      ]
     },
     "execution_count": 26,
     "metadata": {},
     "output_type": "execute_result"
    },
    {
     "data": {
      "image/png": "[encoded data removed]",
      "text/plain": [
       "<Figure size 432x288 with 1 Axes>"
      ]
     },
     "metadata": {
      "needs_background": "light"
     },
     "output_type": "display_data"
    }
   ],
   "source": [
    "url2 = \"https://api.statbank.dk/v1/data/FOLK1A/CSV?lang=en&OMR%C3%85DE=&CIVILSTAND=G%2CU&Tid=2020K4&ALDER=*\"\n",
    "dst2 = pd.read_csv(url2, sep=\";\")\n",
    "\n",
    "married_list = []\n",
    "never_list = []\n",
    "ages = []\n",
    "\n",
    "for x in range(127):\n",
    "    married_list.append(dst2.iloc[x]['INDHOLD'])\n",
    "    \n",
    "for x in range(127, 254):\n",
    "    never_list.append(dst2.iloc[x]['INDHOLD'])\n",
    "    \n",
    "for x in range(126):\n",
    "    ages.append(x)\n",
    "    \n",
    "\n",
    "married_list.remove(2138124)\n",
    "never_list.remove(2859116)\n",
    "\n",
    "plt.plot(ages, married_list, label=\"Married/Seperated\")\n",
    "plt.plot(ages, never_list, label=\"Never Married\")\n",
    "plt.legend()"
   ]
  },
  {
   "cell_type": "markdown",
   "metadata": {},
   "source": [
    "## Ex2 Use another table (extra)\n",
    "Choose any of the other tables in 'databanken' to find interesting data.\n",
    "1. Collect the data\n",
    "2. Pose 5 or more interesing questions to the data\n",
    "3. Answer the questions by aggregating the data\n",
    "4. Illustrate the answers with visual plots"
   ]
  },
  {
   "cell_type": "code",
   "execution_count": null,
   "metadata": {},
   "outputs": [],
   "source": []
  }
 ],
 "metadata": {
  "kernelspec": {
   "display_name": "Python 3",
   "language": "python",
   "name": "python3"
  },
  "language_info": {
   "codemirror_mode": {
    "name": "ipython",
    "version": 3
   },
   "file_extension": ".py",
   "mimetype": "text/x-python",
   "name": "python",
   "nbconvert_exporter": "python",
   "pygments_lexer": "ipython3",
   "version": "3.7.6"
  }
 },
 "nbformat": 4,
 "nbformat_minor": 4
}
