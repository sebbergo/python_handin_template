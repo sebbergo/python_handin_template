{
 "cells": [
  {
   "cell_type": "markdown",
   "metadata": {},
   "source": [
    "## Exercise 1\n",
    "1. Create a python file with 3 functions:\n",
    "  1. `def print_file_content(file)` that can print content of a csv file to the console\n",
    "  2. `def write_list_to_file(output_file, lst)` that can take a list of tuple and write each element to a new line in file\n",
    "    1. rewrite the function so that it gets an arbitrary number of strings instead of a list\n",
    "  3. `def read_csv(input_file)` that take a csv file and read each row into a list\n",
    "2. Add a functionality so that the file can be called from cli with 2 arguments\n",
    "  1. path to csv file\n",
    "  2. an argument `--file file_name` that if given will write the content to file_name or otherwise will print it to the console.\n",
    "3. Add a --help cli argument to describe how the module is used"
   ]
  },
  {
   "cell_type": "markdown",
   "metadata": {},
   "source": [
    "# #STATUS\n",
    "Jeg har ikke fået importeret anden halvdel af denne uges opgaver (altså cli delen). Jeg har kun gjort det til første del. Jeg håber det er okay, og ikke trækker ned."
   ]
  },
  {
   "cell_type": "code",
   "execution_count": 1,
   "metadata": {},
   "outputs": [
    {
     "name": "stdout",
     "output_type": "stream",
     "text": [
      "['Ja hallo hallo test 123']\n"
     ]
    }
   ],
   "source": [
    "from modules import week2_1a as week2\n",
    "\n",
    "file_name = './modules/exercise1.csv'\n",
    "\n",
    "week2.print_file_content(file_name)"
   ]
  },
  {
   "cell_type": "code",
   "execution_count": 2,
   "metadata": {},
   "outputs": [
    {
     "name": "stdout",
     "output_type": "stream",
     "text": [
      "hej\n",
      "Seb\n",
      "går\n",
      "det\n",
      "godt\n"
     ]
    }
   ],
   "source": [
    "from modules import week2_1a as week2\n",
    "\n",
    "file_name = './modules/exercise2.csv'\n",
    "\n",
    "my_lst = (\"hej\", \"Seb\", \"går\", \"det\", \"godt\")\n",
    "\n",
    "week2.write_lst_to_file(file_name, my_lst)"
   ]
  },
  {
   "cell_type": "code",
   "execution_count": 3,
   "metadata": {},
   "outputs": [
    {
     "name": "stdout",
     "output_type": "stream",
     "text": [
      "Hej\n",
      "Seb\n",
      "går\n",
      "det\n",
      "godt\n"
     ]
    }
   ],
   "source": [
    "from modules import week2_1a as week2\n",
    "\n",
    "file_name = './modules/exercise2.csv'\n",
    "\n",
    "string1 = \"Hej\"\n",
    "string2 = \"Seb\"\n",
    "string3 = \"går\"\n",
    "string4 = \"det\"\n",
    "string5 = \"godt\"\n",
    "\n",
    "week2.write_strings_to_file(file_name, string1, string2, string3,\n",
    "                 string4, string5)"
   ]
  },
  {
   "cell_type": "code",
   "execution_count": 4,
   "metadata": {},
   "outputs": [
    {
     "data": {
      "text/plain": [
       "[['ja'], ['det'], ['går'], ['sku'], ['da'], ['meget'], ['godt'], ['hva']]"
      ]
     },
     "execution_count": 4,
     "metadata": {},
     "output_type": "execute_result"
    }
   ],
   "source": [
    "from modules import week2_1a as week2\n",
    "\n",
    "file_name = \"./modules/exercise2writeto.csv\"\n",
    "\n",
    "my_list = list([])\n",
    "\n",
    "week2.csv_to_list(file_name, my_list)\n",
    "my_list"
   ]
  },
  {
   "cell_type": "code",
   "execution_count": null,
   "metadata": {},
   "outputs": [],
   "source": []
  }
 ],
 "metadata": {
  "kernelspec": {
   "display_name": "Python 3",
   "language": "python",
   "name": "python3"
  },
  "language_info": {
   "codemirror_mode": {
    "name": "ipython",
    "version": 3
   },
   "file_extension": ".py",
   "mimetype": "text/x-python",
   "name": "python",
   "nbconvert_exporter": "python",
   "pygments_lexer": "ipython3",
   "version": "3.7.6"
  }
 },
 "nbformat": 4,
 "nbformat_minor": 4
}
