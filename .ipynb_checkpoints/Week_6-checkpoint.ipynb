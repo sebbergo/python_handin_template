{
 "cells": [
  {
   "cell_type": "markdown",
   "metadata": {},
   "source": [
    "# Handin Exercise 6\n",
    "\n",
    "Create a module containing a class with the following methods:\n",
    "1. __init__(self, url_list)\n",
    "2. download(url,filename) raises NotFoundException when url returns 404\n",
    "3. multi_download() uses threads to download multiple urls as text and stores filenames as a property\n",
    "4. __iter__() returns an iterator\n",
    "5. __next__() returns the next filename (and stops when there are no more)\n",
    "6. urllist_generator() returns a generator to loop through the urls\n",
    "7. avg_vowels(text) - a rough estimate on readability returns average number of vowels in the words of the text\n",
    "8. hardest_read() returns the filename of the text with the highest vowel score (use all the cpu cores on the computer for this work."
   ]
  },
  {
   "cell_type": "code",
   "execution_count": 11,
   "metadata": {},
   "outputs": [],
   "source": [
    "import requests\n",
    "import uuid\n",
    "from concurrent.futures import ThreadPoolExecutor, as_completed\n",
    "\n",
    "class MyClass:\n",
    "    def __init__(self, url_list):\n",
    "        self.url_list = url_list\n",
    "        self.filenames = []\n",
    "        self.count = 0\n",
    "        \n",
    "    def download(self, url, filename):\n",
    "        r = requests.get(url)\n",
    "        if r.status_code == \"404\":\n",
    "            raise NotFoundException(\"Given URL not found\")\n",
    "        else:\n",
    "            f = open(filename, \"a\")\n",
    "            f.write(r.json()[\"value\"])\n",
    "            \n",
    "    def download_books(self, url, filename):\n",
    "        r = requests.get(url)\n",
    "        if r.status_code == \"404\":\n",
    "            raise NotFoundException(\"Given URL not found\")\n",
    "        else:\n",
    "            f = open(filename, \"a\")\n",
    "            f.write(r.text)\n",
    "            self.filenames.append(filename)\n",
    "\n",
    "\n",
    "    def multi_download(self):\n",
    "        threads = []\n",
    "        with ThreadPoolExecutor(max_workers=20) as executor:\n",
    "            for url in self.url_list:\n",
    "                filename = str(uuid.uuid1())\n",
    "                self.filenames.append(filename)\n",
    "                threads.append(executor.submit(self.download(url, str(filename))))\n",
    "                \n",
    "    def __iter__ (self):\n",
    "        return self\n",
    "    \n",
    "    def __next__(self):\n",
    "        if len(self.filenames) == 0:\n",
    "            raise StopIteration\n",
    "        return self.filenames.pop()"
   ]
  },
  {
   "cell_type": "code",
   "execution_count": 12,
   "metadata": {},
   "outputs": [],
   "source": [
    "randomUrls = [\"https://api.chucknorris.io/jokes/random\", \"https://api.chucknorris.io/jokes/random\", \"https://api.chucknorris.io/jokes/random\", \"https://api.chucknorris.io/jokes/random\"]\n",
    "\n",
    "mc = MyClass(randomUrls)"
   ]
  },
  {
   "cell_type": "code",
   "execution_count": 3,
   "metadata": {},
   "outputs": [
    {
     "name": "stdout",
     "output_type": "stream",
     "text": [
      "d6d51a9e-857d-11eb-8d99-0242ac130003\n"
     ]
    }
   ],
   "source": [
    "print(next(mc))"
   ]
  },
  {
   "cell_type": "code",
   "execution_count": 4,
   "metadata": {},
   "outputs": [
    {
     "data": {
      "text/plain": [
       "['https://api.chucknorris.io/jokes/random',\n",
       " 'https://api.chucknorris.io/jokes/random',\n",
       " 'https://api.chucknorris.io/jokes/random',\n",
       " 'https://api.chucknorris.io/jokes/random']"
      ]
     },
     "execution_count": 4,
     "metadata": {},
     "output_type": "execute_result"
    }
   ],
   "source": [
    "def url_generator(self):\n",
    "    while len(self.url_list) != 0:\n",
    "        yield self.url_list.pop()\n",
    "        \n",
    "[x for x in url_generator(mc)]"
   ]
  },
  {
   "cell_type": "code",
   "execution_count": 5,
   "metadata": {},
   "outputs": [
    {
     "name": "stdout",
     "output_type": "stream",
     "text": [
      "0.9\n"
     ]
    }
   ],
   "source": [
    "import csv\n",
    "\n",
    "def avg_vowels(csv):\n",
    "    count = 0\n",
    "    text = \"\"\n",
    "    with open(csv, \"r\") as file:\n",
    "        lines = file.readlines()\n",
    "        for line in lines:\n",
    "            text = line.split(\" \")\n",
    "            all_vowels = 'aeiouyæøå'\n",
    "            for word in text:\n",
    "                for char in word:\n",
    "                    if char in all_vowels:\n",
    "                        count += 1\n",
    "    return count/len(text)\n",
    "\n",
    "print(avg_vowels(\"./5e6ce8d6-84e0-11eb-ade7-0242ac130003\"))"
   ]
  },
  {
   "cell_type": "code",
   "execution_count": 6,
   "metadata": {},
   "outputs": [
    {
     "data": {
      "text/plain": [
       "'d6b6fc1c-857d-11eb-8d99-0242ac130003'"
      ]
     },
     "execution_count": 6,
     "metadata": {},
     "output_type": "execute_result"
    }
   ],
   "source": [
    "import time\n",
    "import multiprocessing\n",
    "from concurrent.futures import ProcessPoolExecutor\n",
    "\n",
    "def hardest_read(self, workers=multiprocessing.cpu_count()):\n",
    "    with ProcessPoolExecutor(workers):\n",
    "        scores = {}\n",
    "        highest_score = 0\n",
    "        for filename in self.filenames:\n",
    "            scores[avg_vowels(filename)] = filename\n",
    "\n",
    "        key_max = max(scores, key=scores.get)\n",
    "        return scores[key_max]\n",
    "\n",
    "hardest_read(mc)"
   ]
  },
  {
   "cell_type": "markdown",
   "metadata": {},
   "source": [
    "### Ex 2\n",
    "Create a notebook and import your module from above\n",
    "1. Find 10 books on https://www.gutenberg.org/browse/scores/top and download them using an object of the class you just created before\n",
    "2. Test the different methods of your class\n",
    "3. Make a bar plot with a sorted list of books on x-axis and avg vowels on y-axis"
   ]
  },
  {
   "cell_type": "code",
   "execution_count": 15,
   "metadata": {},
   "outputs": [],
   "source": [
    "mc.download_books(\"https://www.gutenberg.org/files/84/84-0.txt\", \"Frankenstein\")\n",
    "mc.download_books(\"https://www.gutenberg.org/files/11/11-0.txt\", \"Alice in Wonderlands\")\n",
    "mc.download_books(\"https://www.gutenberg.org/files/64812/64812-0.txt\", \"Eyes that Watch\")\n",
    "mc.download_books(\"https://www.gutenberg.org/files/1661/1661-0.txt\", \"The Adventures of Sherlock Holmes\")\n",
    "mc.download_books(\"https://www.gutenberg.org/files/98/98-0.txt\", \"A Tale of Two Cities\")\n",
    "mc.download_books(\"https://www.gutenberg.org/files/1080/1080-0.txt\", \"A Modest Proposal\")\n",
    "mc.download_books(\"https://www.gutenberg.org/files/219/219-0.txt\", \"Heart of Darkness\")\n",
    "mc.download_books(\"https://www.gutenberg.org/cache/epub/5200/pg5200.txt\", \"Metamorphisis\")\n",
    "mc.download_books(\"https://www.gutenberg.org/files/174/174-0.txt\", \"The Picture of Dorian Gray\")\n",
    "mc.download_books(\"https://www.gutenberg.org/files/205/205-0.txt\", \"Walden, and On The Duty Of Civil Disobedience\")"
   ]
  },
  {
   "cell_type": "code",
   "execution_count": null,
   "metadata": {},
   "outputs": [],
   "source": []
  }
 ],
 "metadata": {
  "kernelspec": {
   "display_name": "Python 3",
   "language": "python",
   "name": "python3"
  },
  "language_info": {
   "codemirror_mode": {
    "name": "ipython",
    "version": 3
   },
   "file_extension": ".py",
   "mimetype": "text/x-python",
   "name": "python",
   "nbconvert_exporter": "python",
   "pygments_lexer": "ipython3",
   "version": "3.7.6"
  }
 },
 "nbformat": 4,
 "nbformat_minor": 4
}
