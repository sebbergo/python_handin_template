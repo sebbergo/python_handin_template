{
 "cells": [
  {
   "cell_type": "markdown",
   "metadata": {},
   "source": [
    "\n",
    "## Exercise meanshift\n",
    "\n",
    "        1. load 'data/iris_data.csv' into a dataframe (use decimal=',') and remove the 2 Petal columns. Now we are left with a 2D feature space\n",
    "        \n",
    "    2. get unique labels (Species column)\n",
    "    \n",
    "    3. plot with a scatter plot each iris flower sample colored by label (3 different colors) image.png\n",
    "    \n",
    "    4. use: MeanShift and estimate_bandwidth from sklearn.cluster to first estimate bandwidth and then get the clusters (HINT: estimate_bandwidth() takes an argument: quantile set it to 0.2 for best result)\n",
    "    \n",
    "    5. print out labels, cluster centers and number of clusters (as returned from the MeanShift function)\n",
    "    \n",
    "    6. create a new scatter plot where each flower is colored according to cluster label\n",
    "    \n",
    "    7. add a dot for the cluster centers\n",
    "    \n",
    "    8. Compare the 2 plots (colored by actual labels vs. colored by cluster label)\n",
    "    \n",
    "    9. Try changing the 'quantile' argument to 0.15 and see what happens to your cluster plot.\n",
    "\n"
   ]
  },
  {
   "cell_type": "code",
   "execution_count": null,
   "metadata": {},
   "outputs": [],
   "source": []
  }
 ],
 "metadata": {
  "kernelspec": {
   "display_name": "Python 3",
   "language": "python",
   "name": "python3"
  },
  "language_info": {
   "codemirror_mode": {
    "name": "ipython",
    "version": 3
   },
   "file_extension": ".py",
   "mimetype": "text/x-python",
   "name": "python",
   "nbconvert_exporter": "python",
   "pygments_lexer": "ipython3",
   "version": "3.7.6"
  }
 },
 "nbformat": 4,
 "nbformat_minor": 4
}
