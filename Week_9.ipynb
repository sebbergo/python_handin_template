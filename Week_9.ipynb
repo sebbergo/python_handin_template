{
 "cells": [
  {
   "cell_type": "markdown",
   "metadata": {},
   "source": [
    "\n",
    "week 9 Exercise Feature space\n",
    "Ex 1\n",
    "\n",
    "Data = 'https://think.cs.vt.edu/corgis/datasets/csv/cars/cars.csv'\n",
    "Download the data\n",
    "\n",
    "    Programatically download the data from the above link.\n",
    "    Import the data into a Pandas dataframe.\n",
    "    Show the head of the Pandas dataframe.\n",
    "\n",
    "Feature engineering\n",
    "\n",
    "    Reduce the dataset by:\n",
    "        Make == Honda\n",
    "        Fueltype == Gasoline\n",
    "        Remove outliers. Hint: df[column name'] < df['column name'].quantile(0.90)\n",
    "        Only use 2 features: 'Fuel Information.Highway mpg' and 'Engine Information.Engine Statistics.Horsepower'\n",
    "        Normalize data (reduce values to be between 0 and 1)\n",
    "\n",
    "Linear regression\n",
    "\n",
    "    Perform linear regression where x = horsepower and y = mpg\n",
    "    What is the coefficient (slope) of your model? What does this number mean?\n",
    "    According to your model, what is y when x=1.\n",
    "    Show the regression line on a scatterplot with the other datapoints.\n",
    "\n"
   ]
  },
  {
   "cell_type": "code",
   "execution_count": 2,
   "metadata": {},
   "outputs": [
    {
     "data": {
      "text/html": [
       "<div>\n",
       "<style scoped>\n",
       "    .dataframe tbody tr th:only-of-type {\n",
       "        vertical-align: middle;\n",
       "    }\n",
       "\n",
       "    .dataframe tbody tr th {\n",
       "        vertical-align: top;\n",
       "    }\n",
       "\n",
       "    .dataframe thead th {\n",
       "        text-align: right;\n",
       "    }\n",
       "</style>\n",
       "<table border=\"1\" class=\"dataframe\">\n",
       "  <thead>\n",
       "    <tr style=\"text-align: right;\">\n",
       "      <th></th>\n",
       "      <th>Engine Information.Engine Statistics.Horsepower</th>\n",
       "      <th>Fuel Information.Highway mpg</th>\n",
       "    </tr>\n",
       "  </thead>\n",
       "  <tbody>\n",
       "    <tr>\n",
       "      <th>101</th>\n",
       "      <td>1.000000</td>\n",
       "      <td>0.238095</td>\n",
       "    </tr>\n",
       "    <tr>\n",
       "      <th>102</th>\n",
       "      <td>0.474026</td>\n",
       "      <td>0.523810</td>\n",
       "    </tr>\n",
       "    <tr>\n",
       "      <th>103</th>\n",
       "      <td>0.474026</td>\n",
       "      <td>0.523810</td>\n",
       "    </tr>\n",
       "    <tr>\n",
       "      <th>104</th>\n",
       "      <td>0.474026</td>\n",
       "      <td>0.523810</td>\n",
       "    </tr>\n",
       "    <tr>\n",
       "      <th>105</th>\n",
       "      <td>1.000000</td>\n",
       "      <td>0.380952</td>\n",
       "    </tr>\n",
       "    <tr>\n",
       "      <th>...</th>\n",
       "      <td>...</td>\n",
       "      <td>...</td>\n",
       "    </tr>\n",
       "    <tr>\n",
       "      <th>5067</th>\n",
       "      <td>0.863636</td>\n",
       "      <td>0.238095</td>\n",
       "    </tr>\n",
       "    <tr>\n",
       "      <th>5068</th>\n",
       "      <td>0.863636</td>\n",
       "      <td>0.190476</td>\n",
       "    </tr>\n",
       "    <tr>\n",
       "      <th>5069</th>\n",
       "      <td>0.863636</td>\n",
       "      <td>0.238095</td>\n",
       "    </tr>\n",
       "    <tr>\n",
       "      <th>5070</th>\n",
       "      <td>0.863636</td>\n",
       "      <td>0.190476</td>\n",
       "    </tr>\n",
       "    <tr>\n",
       "      <th>5071</th>\n",
       "      <td>0.863636</td>\n",
       "      <td>0.238095</td>\n",
       "    </tr>\n",
       "  </tbody>\n",
       "</table>\n",
       "<p>198 rows × 2 columns</p>\n",
       "</div>"
      ],
      "text/plain": [
       "      Engine Information.Engine Statistics.Horsepower  \\\n",
       "101                                          1.000000   \n",
       "102                                          0.474026   \n",
       "103                                          0.474026   \n",
       "104                                          0.474026   \n",
       "105                                          1.000000   \n",
       "...                                               ...   \n",
       "5067                                         0.863636   \n",
       "5068                                         0.863636   \n",
       "5069                                         0.863636   \n",
       "5070                                         0.863636   \n",
       "5071                                         0.863636   \n",
       "\n",
       "      Fuel Information.Highway mpg  \n",
       "101                       0.238095  \n",
       "102                       0.523810  \n",
       "103                       0.523810  \n",
       "104                       0.523810  \n",
       "105                       0.380952  \n",
       "...                            ...  \n",
       "5067                      0.238095  \n",
       "5068                      0.190476  \n",
       "5069                      0.238095  \n",
       "5070                      0.190476  \n",
       "5071                      0.238095  \n",
       "\n",
       "[198 rows x 2 columns]"
      ]
     },
     "execution_count": 2,
     "metadata": {},
     "output_type": "execute_result"
    }
   ],
   "source": [
    "import requests\n",
    "import pandas as pd\n",
    "import seaborn as sb\n",
    "\n",
    "df = pd.read_csv('https://think.cs.vt.edu/corgis/datasets/csv/cars/cars.csv')\n",
    "\n",
    "ts_honda = df[df['Identification.Make']=='Honda']\n",
    "\n",
    "ts_fuel = ts_honda[ts_honda['Fuel Information.Fuel Type']=='Gasoline']\n",
    "\n",
    "twofeatures = ts_fuel[[\"Engine Information.Engine Statistics.Horsepower\", \"Fuel Information.Highway mpg\"]]\n",
    "\n",
    "normalized = twofeatures.apply(lambda x: (x - x.min()) / (x.max() - x.min()))\n",
    "\n",
    "normalized"
   ]
  },
  {
   "cell_type": "code",
   "execution_count": 10,
   "metadata": {},
   "outputs": [
    {
     "data": {
      "text/plain": [
       "[<matplotlib.lines.Line2D at 0x7f560d8974d0>]"
      ]
     },
     "execution_count": 10,
     "metadata": {},
     "output_type": "execute_result"
    },
    {
     "data": {
      "image/png": "[encoded data removed]",
      "text/plain": [
       "<Figure size 432x288 with 1 Axes>"
      ]
     },
     "metadata": {
      "needs_background": "light"
     },
     "output_type": "display_data"
    }
   ],
   "source": [
    "import matplotlib.pyplot as plt\n",
    "%matplotlib inline\n",
    "\n",
    "twofeatures.plot.scatter(x=0, y=1)\n",
    "plt.plot([120, 260], [20, 40])"
   ]
  },
  {
   "cell_type": "code",
   "execution_count": 4,
   "metadata": {},
   "outputs": [
    {
     "data": {
      "text/plain": [
       "array([[-0.0373255]])"
      ]
     },
     "execution_count": 4,
     "metadata": {},
     "output_type": "execute_result"
    }
   ],
   "source": [
    "import sklearn.linear_model\n",
    "\n",
    "horsepower = df[[\"Engine Information.Engine Statistics.Horsepower\"]]\n",
    "highway = df[[\"Fuel Information.Highway mpg\"]]\n",
    "\n",
    "model = sklearn.linear_model.LinearRegression()\n",
    "model.fit(horsepower, highway)\n",
    "model.coef_"
   ]
  },
  {
   "cell_type": "code",
   "execution_count": 5,
   "metadata": {},
   "outputs": [
    {
     "name": "stdout",
     "output_type": "stream",
     "text": [
      "When x is 1, y will be [34.18469391]\n"
     ]
    }
   ],
   "source": [
    "predicted = model.predict([[1]])\n",
    "print(\"When x is 1, y will be {}\".format(predicted[0]))"
   ]
  }
 ],
 "metadata": {
  "kernelspec": {
   "display_name": "Python 3",
   "language": "python",
   "name": "python3"
  },
  "language_info": {
   "codemirror_mode": {
    "name": "ipython",
    "version": 3
   },
   "file_extension": ".py",
   "mimetype": "text/x-python",
   "name": "python",
   "nbconvert_exporter": "python",
   "pygments_lexer": "ipython3",
   "version": "3.7.6"
  }
 },
 "nbformat": 4,
 "nbformat_minor": 4
}
